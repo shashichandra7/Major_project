{
  "nbformat": 4,
  "nbformat_minor": 0,
  "metadata": {
    "colab": {
      "name": "SER_SVM.ipynb",
      "provenance": [],
      "collapsed_sections": [
        "0kWl4SbrtiUP"
      ],
      "toc_visible": true,
      "include_colab_link": true
    },
    "kernelspec": {
      "display_name": "Python 3",
      "language": "python",
      "name": "python3"
    },
    "language_info": {
      "codemirror_mode": {
        "name": "ipython",
        "version": 3
      },
      "file_extension": ".py",
      "mimetype": "text/x-python",
      "name": "python",
      "nbconvert_exporter": "python",
      "pygments_lexer": "ipython3",
      "version": "3.8.2"
    }
  },
  "cells": [
    {
      "cell_type": "markdown",
      "metadata": {
        "id": "view-in-github",
        "colab_type": "text"
      },
      "source": [
        "<a href=\"https://colab.research.google.com/github/shashichandra7/Major_project/blob/main/SER_SVM.ipynb\" target=\"_parent\"><img src=\"https://colab.research.google.com/assets/colab-badge.svg\" alt=\"Open In Colab\"/></a>"
      ]
    },
    {
      "cell_type": "code",
      "metadata": {
        "colab": {
          "base_uri": "https://localhost:8080/"
        },
        "id": "1LWT3AufOyCv",
        "outputId": "6ecc6e57-95a8-49a5-caab-752f508fcc70"
      },
      "source": [
        "from google.colab import drive\n",
        "drive.mount('/content/drive')"
      ],
      "execution_count": 1,
      "outputs": [
        {
          "output_type": "stream",
          "text": [
            "Mounted at /content/drive\n"
          ],
          "name": "stdout"
        }
      ]
    },
    {
      "cell_type": "code",
      "metadata": {
        "id": "VZWf5RDrO8Ta"
      },
      "source": [
        "import pandas as pd\n",
        "import numpy as np"
      ],
      "execution_count": 2,
      "outputs": []
    },
    {
      "cell_type": "code",
      "metadata": {
        "colab": {
          "base_uri": "https://localhost:8080/"
        },
        "id": "5JBkWhfnQQDt",
        "outputId": "ce5eb9ef-4acb-46c3-eef6-d3626c184424"
      },
      "source": [
        "import time\n",
        "\n",
        "starting_time = time.time()\n",
        "data = pd.read_csv('/content/drive/MyDrive/RAVTESS_MFCC_Observed.csv')\n",
        "print(\"data loaded in \" + str(time.time()-starting_time) + \"ms\")\n",
        "\n",
        "print(data.head())"
      ],
      "execution_count": 3,
      "outputs": [
        {
          "output_type": "stream",
          "text": [
            "data loaded in 1.002946138381958ms\n",
            "   Unnamed: 0           0          1  ...         38         39    emotion\n",
            "0         440 -476.320709  26.602732  ...   1.655720   0.560829      happy\n",
            "1          78 -614.067322  61.266895  ...  12.266927  14.580595    neutral\n",
            "2        4640 -404.634064  75.745514  ...   7.378544   2.995959      angry\n",
            "3         903 -690.535461  43.141396  ...   1.468921   1.691772  surprised\n",
            "4        4387 -385.658752  90.187057  ...  12.770238   9.936772        sad\n",
            "\n",
            "[5 rows x 42 columns]\n"
          ],
          "name": "stdout"
        }
      ]
    },
    {
      "cell_type": "code",
      "metadata": {
        "colab": {
          "base_uri": "https://localhost:8080/"
        },
        "id": "Gnn24ErtQXIM",
        "outputId": "7f13ecec-00a5-4f3d-ded3-1de02c81dd39"
      },
      "source": [
        "data.shape"
      ],
      "execution_count": 4,
      "outputs": [
        {
          "output_type": "execute_result",
          "data": {
            "text/plain": [
              "(5252, 42)"
            ]
          },
          "metadata": {
            "tags": []
          },
          "execution_count": 4
        }
      ]
    },
    {
      "cell_type": "code",
      "metadata": {
        "colab": {
          "base_uri": "https://localhost:8080/"
        },
        "id": "6UlGjAhtlhl2",
        "outputId": "adf26290-e7a0-45e6-9a85-a126ac2719e5"
      },
      "source": [
        "#printing all columns\n",
        "data.columns"
      ],
      "execution_count": 5,
      "outputs": [
        {
          "output_type": "execute_result",
          "data": {
            "text/plain": [
              "Index(['Unnamed: 0', '0', '1', '2', '3', '4', '5', '6', '7', '8', '9', '10',\n",
              "       '11', '12', '13', '14', '15', '16', '17', '18', '19', '20', '21', '22',\n",
              "       '23', '24', '25', '26', '27', '28', '29', '30', '31', '32', '33', '34',\n",
              "       '35', '36', '37', '38', '39', 'emotion'],\n",
              "      dtype='object')"
            ]
          },
          "metadata": {
            "tags": []
          },
          "execution_count": 5
        }
      ]
    },
    {
      "cell_type": "code",
      "metadata": {
        "id": "7T9PgDj1luY1"
      },
      "source": [
        "#dropping the column Unnamed: 0 to removed shuffled index\n",
        "data = data.drop('Unnamed: 0',axis=1)"
      ],
      "execution_count": 6,
      "outputs": []
    },
    {
      "cell_type": "code",
      "metadata": {
        "colab": {
          "base_uri": "https://localhost:8080/"
        },
        "id": "9XYzHT00l1vu",
        "outputId": "efe4bfb4-5417-427f-b106-6f90897689ed"
      },
      "source": [
        "data.columns"
      ],
      "execution_count": 7,
      "outputs": [
        {
          "output_type": "execute_result",
          "data": {
            "text/plain": [
              "Index(['0', '1', '2', '3', '4', '5', '6', '7', '8', '9', '10', '11', '12',\n",
              "       '13', '14', '15', '16', '17', '18', '19', '20', '21', '22', '23', '24',\n",
              "       '25', '26', '27', '28', '29', '30', '31', '32', '33', '34', '35', '36',\n",
              "       '37', '38', '39', 'emotion'],\n",
              "      dtype='object')"
            ]
          },
          "metadata": {
            "tags": []
          },
          "execution_count": 7
        }
      ]
    },
    {
      "cell_type": "code",
      "metadata": {
        "id": "dFz_djRCj8-7"
      },
      "source": [
        "#separating features and target outputs\n",
        "X = data.drop('emotion', axis = 1).values\n",
        "y = data['emotion'].values"
      ],
      "execution_count": 8,
      "outputs": []
    },
    {
      "cell_type": "markdown",
      "metadata": {
        "id": "gmyFS7Ajj4PZ"
      },
      "source": [
        "## SVM\n",
        "\n",
        "Implementing SVM with Scikit-Learn"
      ]
    },
    {
      "cell_type": "code",
      "metadata": {
        "id": "pq5mN2XzkAj_"
      },
      "source": [
        "import pandas as pd\n",
        "import numpy as np\n",
        "import matplotlib.pyplot as plt\n",
        "%matplotlib inline"
      ],
      "execution_count": 18,
      "outputs": []
    },
    {
      "cell_type": "code",
      "metadata": {
        "colab": {
          "base_uri": "https://localhost:8080/"
        },
        "id": "4j5u2-2YkEce",
        "outputId": "b114a6f9-6b47-4634-8c76-f31a18b49c24"
      },
      "source": [
        "X.shape, y.shape"
      ],
      "execution_count": 21,
      "outputs": [
        {
          "output_type": "execute_result",
          "data": {
            "text/plain": [
              "((5252, 40), (5252,))"
            ]
          },
          "metadata": {
            "tags": []
          },
          "execution_count": 21
        }
      ]
    },
    {
      "cell_type": "code",
      "metadata": {
        "colab": {
          "base_uri": "https://localhost:8080/"
        },
        "id": "rzaQWvXjkG6a",
        "outputId": "8e4c42e5-90c0-4283-885a-d5775ccf4269"
      },
      "source": [
        "np.unique(y)"
      ],
      "execution_count": 22,
      "outputs": [
        {
          "output_type": "execute_result",
          "data": {
            "text/plain": [
              "array(['angry', 'calm', 'disgust', 'fear', 'happy', 'neutral', 'sad',\n",
              "       'surprised'], dtype=object)"
            ]
          },
          "metadata": {
            "tags": []
          },
          "execution_count": 22
        }
      ]
    },
    {
      "cell_type": "markdown",
      "metadata": {
        "id": "qFIOIBCmkOof"
      },
      "source": [
        "X variable contains attributes while y variable contains corresponding labels.\n",
        "\n",
        "Once the data is divided into attributes and labels, the final preprocessing step is to divide data into training and test sets. The model_selection library of the Scikit-Learn library contains the train_test_split method that allows us to divide data into training and test sets."
      ]
    },
    {
      "cell_type": "code",
      "metadata": {
        "id": "y-rWEbnjkI3z"
      },
      "source": [
        "from sklearn.model_selection import train_test_split\n",
        "\n",
        "X_train, X_test, y_train, y_test = train_test_split(X, y, test_size = 0.20)"
      ],
      "execution_count": 24,
      "outputs": []
    },
    {
      "cell_type": "markdown",
      "metadata": {
        "id": "2jBVxf-ZkTSd"
      },
      "source": [
        "It is the time to train our SVM on the training data. Scikit-Learn contains the svm library, which contains built-in classes for different SVM algorithms. Since we are going to perform a classification task, we will use the support vector classifier class, which is written as SVC in the Scikit-Learn's svm library. We have set the kernel to linear."
      ]
    },
    {
      "cell_type": "code",
      "metadata": {
        "id": "viKFlbezkSll"
      },
      "source": [
        "from sklearn.svm import SVC\n",
        "\n",
        "svclassifier = SVC(kernel = 'linear')"
      ],
      "execution_count": 26,
      "outputs": []
    },
    {
      "cell_type": "markdown",
      "metadata": {
        "id": "obFMZPWqIs3C"
      },
      "source": [
        "The fit method of SVC class is called to train the algorithm on the training data, which is passed as a parameter to the fit method. Execute the following code to train the algorithm:"
      ]
    },
    {
      "cell_type": "code",
      "metadata": {
        "colab": {
          "base_uri": "https://localhost:8080/"
        },
        "id": "LZnkHUkZkX1A",
        "outputId": "28ce0695-90ab-4a83-d332-0fa74a9e678d"
      },
      "source": [
        "import time\n",
        "\n",
        "starting_time = time.time()\n",
        "svclassifier.fit(X_train, y_train)\n",
        "print(\"Trained model in %s ms \" % str(time.time() - starting_time))"
      ],
      "execution_count": 28,
      "outputs": [
        {
          "output_type": "stream",
          "text": [
            "Trained model in 119.19041109085083 ms \n"
          ],
          "name": "stdout"
        }
      ]
    },
    {
      "cell_type": "markdown",
      "metadata": {
        "id": "KXvzYeXYkaMb"
      },
      "source": [
        "To make predictions, the predict method of the SVC class is used."
      ]
    },
    {
      "cell_type": "code",
      "metadata": {
        "id": "pUad4lXgkdZR"
      },
      "source": [
        "y_pred = svclassifier.predict(X_test)"
      ],
      "execution_count": 30,
      "outputs": []
    },
    {
      "cell_type": "markdown",
      "metadata": {
        "id": "dRd8zm49kfwn"
      },
      "source": [
        "Confusion matrix, precision, recall, and F1 measures are the most commonly used metrics for classification tasks. Scikit-Learn's metrics library contains the classification_report and confusion_matrix methods, which can be readily used to find out the values for these important metrics.\n",
        "We have used the following code for finding these metrics:"
      ]
    },
    {
      "cell_type": "code",
      "metadata": {
        "colab": {
          "base_uri": "https://localhost:8080/",
          "height": 546
        },
        "id": "6qfbWKKzku_Z",
        "outputId": "93417ae3-f9b9-43c9-c4cc-204d5acc5387"
      },
      "source": [
        "from sklearn.metrics import classification_report, confusion_matrix,accuracy_score\n",
        "import seaborn as sn\n",
        "\n",
        "print(classification_report(y_test,y_pred))\n",
        "\n",
        "acc = float(accuracy_score(y_test,y_pred))*100\n",
        "print(\"----accuracy score %s ----\" % acc)\n",
        "\n",
        "cm = confusion_matrix(y_test,y_pred)\n",
        "df_cm = pd.DataFrame(cm)\n",
        "sn.heatmap(df_cm, annot=True, fmt='')\n",
        "plt.show()"
      ],
      "execution_count": 31,
      "outputs": [
        {
          "output_type": "stream",
          "text": [
            "              precision    recall  f1-score   support\n",
            "\n",
            "       angry       0.76      0.85      0.80       148\n",
            "        calm       0.51      0.79      0.62        66\n",
            "     disgust       0.78      0.78      0.78       125\n",
            "        fear       0.74      0.63      0.68       178\n",
            "       happy       0.65      0.74      0.69       149\n",
            "     neutral       0.91      0.78      0.84       117\n",
            "         sad       0.70      0.73      0.71       150\n",
            "   surprised       0.83      0.58      0.69       118\n",
            "\n",
            "    accuracy                           0.73      1051\n",
            "   macro avg       0.74      0.73      0.73      1051\n",
            "weighted avg       0.74      0.73      0.73      1051\n",
            "\n",
            "----accuracy score 72.97811607992388 ----\n"
          ],
          "name": "stdout"
        },
        {
          "output_type": "display_data",
          "data": {
            "image/png": "[encoded data removed]",
            "text/plain": [
              "<Figure size 432x288 with 2 Axes>"
            ]
          },
          "metadata": {
            "tags": [],
            "needs_background": "light"
          }
        }
      ]
    },
    {
      "cell_type": "markdown",
      "metadata": {
        "id": "XADzC5Cbkx6a"
      },
      "source": [
        "Now by calculating the training accuracy and comparing with testing accuracy, we can check for overfitting of data"
      ]
    },
    {
      "cell_type": "code",
      "metadata": {
        "colab": {
          "base_uri": "https://localhost:8080/"
        },
        "id": "cPupL1MfjMVQ",
        "outputId": "975d9f27-cc3e-4385-81b7-b6df980f7a6c"
      },
      "source": [
        "train_acc = float(svclassifier.score(X_train, y_train)*100)\n",
        "print(\"----train accuracy score %s ----\" % train_acc)\n",
        "\n",
        "test_acc = float(svclassifier.score(X_test, y_test)*100)\n",
        "print(\"----test accuracy score %s ----\" % test_acc)"
      ],
      "execution_count": 32,
      "outputs": [
        {
          "output_type": "stream",
          "text": [
            "----train accuracy score 77.6243751487741 ----\n",
            "----test accuracy score 72.97811607992388 ----\n"
          ],
          "name": "stdout"
        }
      ]
    },
    {
      "cell_type": "markdown",
      "metadata": {
        "id": "0kWl4SbrtiUP"
      },
      "source": [
        "## Cross-Validation"
      ]
    },
    {
      "cell_type": "markdown",
      "metadata": {
        "id": "SIsvihdMJDYO"
      },
      "source": [
        "5-fold cross validation of the dataset with the SVC classifier."
      ]
    },
    {
      "cell_type": "code",
      "metadata": {
        "colab": {
          "base_uri": "https://localhost:8080/"
        },
        "id": "K8JwrWJ_k6qN",
        "outputId": "6b1f760e-605f-42db-975e-2ba84b26f2fc"
      },
      "source": [
        "from sklearn.model_selection import cross_val_score\n",
        "\n",
        "# no. of folds cv = 5\n",
        "cv_results = cross_val_score(svclassifier, X, y, cv = 5)\n",
        "print(cv_results)"
      ],
      "execution_count": 33,
      "outputs": [
        {
          "output_type": "stream",
          "text": [
            "[0.74785918 0.71646051 0.73619048 0.72095238 0.72666667]\n"
          ],
          "name": "stdout"
        }
      ]
    },
    {
      "cell_type": "markdown",
      "metadata": {
        "id": "1x2ICDUKtows"
      },
      "source": [
        "## Scaling \n",
        "\n",
        "When performing the linear SVM classification, it is often helpful to normalize the training data, for example by subtracting the mean and dividing by the standard deviation, and afterwards scale the test data with the mean and standard deviation of training data."
      ]
    },
    {
      "cell_type": "code",
      "metadata": {
        "colab": {
          "base_uri": "https://localhost:8080/"
        },
        "id": "OKhK1aW_trnZ",
        "outputId": "c82f8fca-af5f-4881-b7b1-61454f2ff666"
      },
      "source": [
        "from sklearn.model_selection import train_test_split\n",
        "from sklearn.preprocessing import StandardScaler\n",
        "from sklearn.pipeline import Pipeline\n",
        "from sklearn.svm import SVC\n",
        "\n",
        "\n",
        "#splitting dataset into train/ test sets\n",
        "X_train, X_test, y_train, y_test = train_test_split(X, y, test_size = 0.20)\n",
        "\n",
        "# Setup the pipeline steps: steps\n",
        "steps = [('scaler', StandardScaler()),\n",
        "        ('SVM', SVC())]\n",
        "        \n",
        "# Create the pipeline: pipeline\n",
        "pipeline = Pipeline(steps)\n",
        "\n",
        "# Fit the pipeline to the training set: svc_scaled\n",
        "svc_scaled = pipeline.fit(X_train, y_train)\n",
        "\n",
        "# Instantiate and fit a classifier to the unscaled data\n",
        "svc_unscaled = SVC(kernel = 'linear').fit(X_train, y_train)\n",
        "\n",
        "# Compute and print metrics\n",
        "print('Accuracy with Scaling: {}'.format(svc_scaled.score(X_test, y_test)))\n",
        "print('Accuracy without Scaling: {}'.format(svc_unscaled.score(X_test, y_test)))\n"
      ],
      "execution_count": 34,
      "outputs": [
        {
          "output_type": "stream",
          "text": [
            "Accuracy with Scaling: 0.8325404376784015\n",
            "Accuracy without Scaling: 0.7278782112274025\n"
          ],
          "name": "stdout"
        }
      ]
    },
    {
      "cell_type": "markdown",
      "metadata": {
        "id": "9bxO_NYuUJpN"
      },
      "source": [
        "### Generalization check\n",
        "Checking for overfitting or underfitting by comparing the training and testing scores of the model"
      ]
    },
    {
      "cell_type": "code",
      "metadata": {
        "colab": {
          "base_uri": "https://localhost:8080/"
        },
        "id": "Ve1e2yVBivNT",
        "outputId": "aeb02b08-6142-4be0-d709-9da379aa5791"
      },
      "source": [
        "train_acc = float(svc_scaled.score(X_train, y_train)*100)\n",
        "print(\"----train accuracy score %s ----\" % train_acc)\n",
        "\n",
        "test_acc = float(svc_scaled.score(X_test, y_test)*100)\n",
        "print(\"----test accuracy score %s ----\" % test_acc)"
      ],
      "execution_count": 35,
      "outputs": [
        {
          "output_type": "stream",
          "text": [
            "----train accuracy score 87.21732920733159 ----\n",
            "----test accuracy score 83.25404376784014 ----\n"
          ],
          "name": "stdout"
        }
      ]
    },
    {
      "cell_type": "code",
      "metadata": {
        "id": "JkMV4nVo2MBi"
      },
      "source": [
        "scaled_predictions = svc_scaled.predict(X_test)"
      ],
      "execution_count": 37,
      "outputs": []
    },
    {
      "cell_type": "markdown",
      "metadata": {
        "id": "r_56D7h6WkOE"
      },
      "source": [
        "### Classification reports and Confusion Matrix"
      ]
    },
    {
      "cell_type": "code",
      "metadata": {
        "colab": {
          "base_uri": "https://localhost:8080/",
          "height": 546
        },
        "id": "oROt3FvXwMHK",
        "outputId": "f12e301e-d029-4e40-e8bb-dd6048b260d3"
      },
      "source": [
        "from sklearn.metrics import classification_report, confusion_matrix,accuracy_score\n",
        "import seaborn as sn\n",
        "\n",
        "print(classification_report(y_test,scaled_predictions))\n",
        "\n",
        "acc = float(accuracy_score(y_test,scaled_predictions))*100\n",
        "print(\"----accuracy score %s ----\" % acc)\n",
        "\n",
        "cm = confusion_matrix(y_test,scaled_predictions)\n",
        "df_cm = pd.DataFrame(cm)\n",
        "sn.heatmap(df_cm, annot=True, fmt='')\n",
        "plt.show()"
      ],
      "execution_count": 38,
      "outputs": [
        {
          "output_type": "stream",
          "text": [
            "              precision    recall  f1-score   support\n",
            "\n",
            "       angry       0.89      0.92      0.90       145\n",
            "        calm       0.61      0.96      0.75        71\n",
            "     disgust       0.81      0.87      0.84       117\n",
            "        fear       0.83      0.77      0.80       155\n",
            "       happy       0.91      0.76      0.83       157\n",
            "     neutral       0.99      0.79      0.88       117\n",
            "         sad       0.78      0.80      0.79       170\n",
            "   surprised       0.87      0.88      0.87       119\n",
            "\n",
            "    accuracy                           0.83      1051\n",
            "   macro avg       0.84      0.84      0.83      1051\n",
            "weighted avg       0.85      0.83      0.83      1051\n",
            "\n",
            "----accuracy score 83.25404376784014 ----\n"
          ],
          "name": "stdout"
        },
        {
          "output_type": "display_data",
          "data": {
            "image/png": "[encoded data removed]",
            "text/plain": [
              "<Figure size 432x288 with 2 Axes>"
            ]
          },
          "metadata": {
            "tags": [],
            "needs_background": "light"
          }
        }
      ]
    },
    {
      "cell_type": "markdown",
      "metadata": {
        "id": "k7ay4Mx3WvIN"
      },
      "source": [
        "#### Cross Validation"
      ]
    },
    {
      "cell_type": "code",
      "metadata": {
        "colab": {
          "base_uri": "https://localhost:8080/"
        },
        "id": "Yqo9QIL82ez-",
        "outputId": "1dcfc184-96bb-48db-ed4d-3dc94b605889"
      },
      "source": [
        "from sklearn.model_selection import cross_val_score\n",
        "\n",
        "# no. of folds cv = 5\n",
        "cv_results = cross_val_score(svc_scaled, X, y, cv = 5)\n",
        "print(cv_results)"
      ],
      "execution_count": 39,
      "outputs": [
        {
          "output_type": "stream",
          "text": [
            "[0.85347288 0.82302569 0.83238095 0.82285714 0.84380952]\n"
          ],
          "name": "stdout"
        }
      ]
    },
    {
      "cell_type": "code",
      "metadata": {
        "id": "C7Qsgs0H8Ijx"
      },
      "source": [
        ""
      ],
      "execution_count": null,
      "outputs": []
    }
  ]
}